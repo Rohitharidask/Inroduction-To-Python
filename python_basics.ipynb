{
  "nbformat": 4,
  "nbformat_minor": 0,
  "metadata": {
    "colab": {
      "name": "python basics.ipynb",
      "provenance": []
    },
    "kernelspec": {
      "name": "python3",
      "display_name": "Python 3"
    },
    "language_info": {
      "name": "python"
    }
  },
  "cells": [
    {
      "cell_type": "code",
      "execution_count": 4,
      "metadata": {
        "id": "0mp_4_PBz_0-"
      },
      "outputs": [],
      "source": [
        "x=20"
      ]
    },
    {
      "cell_type": "code",
      "source": [
        "if x>10 :\n",
        "  print (\"if x is greater than 10\")\n",
        "        "
      ],
      "metadata": {
        "colab": {
          "base_uri": "https://localhost:8080/"
        },
        "id": "Ef6TWGyL0UVy",
        "outputId": "42891ec5-797f-4cc8-90f3-978153e1fa6c"
      },
      "execution_count": 5,
      "outputs": [
        {
          "output_type": "stream",
          "name": "stdout",
          "text": [
            "if x is greater than 10\n"
          ]
        }
      ]
    },
    {
      "cell_type": "code",
      "source": [
        "x=20\n",
        "if x>10 :\n",
        " print (\"x is greater than 10\")\n",
        "if x<10:\n",
        "  print(\"x less than 10\")"
      ],
      "metadata": {
        "colab": {
          "base_uri": "https://localhost:8080/"
        },
        "id": "RKkzsz2h1ePe",
        "outputId": "ab6106f4-c79f-487b-ba48-8c43c7e0ab63"
      },
      "execution_count": 9,
      "outputs": [
        {
          "output_type": "stream",
          "name": "stdout",
          "text": [
            "x is greater than 10\n"
          ]
        }
      ]
    },
    {
      "cell_type": "code",
      "source": [
        "x=10\n",
        "if x>10:\n",
        " print (\"x is greater than 10\")\n",
        "if x<10:\n",
        "  print(\"x less than 10\")\n",
        "if x== 10 :\n",
        "  print(\"x is equal to 10\")"
      ],
      "metadata": {
        "colab": {
          "base_uri": "https://localhost:8080/"
        },
        "id": "OAXPCvdU4Gk2",
        "outputId": "38916abc-bd00-411d-fa13-cdd0995bd223"
      },
      "execution_count": 16,
      "outputs": [
        {
          "output_type": "stream",
          "name": "stdout",
          "text": [
            "x is equal to 10\n"
          ]
        }
      ]
    },
    {
      "cell_type": "code",
      "source": [
        "x=int(input(\"enter the mark\"))\n",
        "if x>=25:\n",
        " print (\"pass\")\n",
        "if x<25:\n",
        " print (\"fail\")\n",
        "\n"
      ],
      "metadata": {
        "colab": {
          "base_uri": "https://localhost:8080/"
        },
        "id": "oEKYAV8t6Gw7",
        "outputId": "0f5dc2f4-9a46-4775-d37d-90080afc11a7"
      },
      "execution_count": 21,
      "outputs": [
        {
          "output_type": "stream",
          "name": "stdout",
          "text": [
            "enter the mark30\n",
            "pass\n"
          ]
        }
      ]
    },
    {
      "cell_type": "code",
      "source": [
        "x=int(input(\"enter the salary\"))\n",
        "if x>=250000:\n",
        "  print(\"taxable\")\n",
        "  print(x*10/100)\n",
        "if x<250000:\n",
        "    print(\"no tax\")"
      ],
      "metadata": {
        "colab": {
          "base_uri": "https://localhost:8080/"
        },
        "id": "SPFQBDbIAJx9",
        "outputId": "81271969-47b9-44ff-c498-e96fe117a835"
      },
      "execution_count": 22,
      "outputs": [
        {
          "output_type": "stream",
          "name": "stdout",
          "text": [
            "enter the salary350000\n",
            "taxable\n",
            "35000.0\n"
          ]
        }
      ]
    },
    {
      "cell_type": "code",
      "source": [
        ""
      ],
      "metadata": {
        "id": "scWRwC7kDtJP"
      },
      "execution_count": null,
      "outputs": []
    }
  ]
}